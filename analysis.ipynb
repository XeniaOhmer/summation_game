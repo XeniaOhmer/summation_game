{
 "cells": [
  {
   "cell_type": "code",
   "execution_count": 8,
   "metadata": {},
   "outputs": [],
   "source": [
    "import numpy as np\n",
    "import pickle\n",
    "import torch\n",
    "import matplotlib.pyplot as plt\n",
    "import os    \n",
    "os.environ['KMP_DUPLICATE_LIB_OK']='True'\n",
    "\n",
    "from egg.core.language_analysis import calc_entropy, _hashable_tensor"
   ]
  },
  {
   "cell_type": "code",
   "execution_count": 2,
   "metadata": {},
   "outputs": [],
   "source": [
    "N = 20\n",
    "vocab_size = 200"
   ]
  },
  {
   "cell_type": "markdown",
   "metadata": {},
   "source": [
    "### training and test performance"
   ]
  },
  {
   "cell_type": "code",
   "execution_count": 38,
   "metadata": {},
   "outputs": [],
   "source": [
    "def load_interaction(model, N, vocab_size, data='validation', run=0):\n",
    "    \n",
    "    path = ('N' + str(N) + '_vocab-size' + str(vocab_size) + '/0/interactions/' + data + \n",
    "            '/epoch_250/' + 'interaction_gpu0')\n",
    "    logs = torch.load(path)\n",
    "    return logs \n",
    "\n",
    "def one_hot_to_numbers(inputs):\n",
    "    \n",
    "    n_summands = 2\n",
    "    N = inputs.shape[1]//n_summands\n",
    "    numbers1 = inputs[:,0:N].argmax(axis=1)\n",
    "    numbers2 = inputs[:,N:2*N].argmax(axis=1)\n",
    "    numbers = torch.stack([numbers1, numbers2], axis=1)\n",
    "    return numbers\n",
    "\n",
    "\n",
    "def plot_accuracy_versus_frequency(logs):\n",
    "    \n",
    "    numbers = one_hot_to_numbers(logs.sender_input)\n",
    "    messages = logs.message.argmax(dim=-1)\n",
    "    receiver_output = torch.argmax(logs.receiver_output, dim=1)\n",
    "    \n",
    "    results = {'sum': [], 'frequency': [], 'accuracy': []}\n",
    "    input_sums = torch.sum(numbers, axis=1)\n",
    "    for sum_i in range(N + N):\n",
    "        indices = torch.where(input_sums == sum_i)[0]\n",
    "        if len(indices) > 0: \n",
    "            results['sum'].append(sum_i)\n",
    "            results['frequency'].append(len(indices) / len(input_sums))\n",
    "            accuracy = torch.mean((input_sums[indices] == receiver_output[indices]).float())\n",
    "            results['accuracy'].append(accuracy)\n",
    "    plt.scatter(results['frequency'], results['accuracy'])\n",
    "    plt.xlabel('frequency')\n",
    "    plt.ylabel('accuracy')\n",
    "    \n",
    "\n",
    "def plot_symbol_per_input(logs):\n",
    "    \n",
    "    numbers = one_hot_to_numbers(logs.sender_input)\n",
    "    messages = logs.message.argmax(dim=-1)\n",
    "    \n",
    "    x = np.array(numbers[:, 0])\n",
    "    y = np.array(numbers[:, 1])\n",
    "    z = np.array(messages)\n",
    "    n = len(x)\n",
    "    image = np.zeros((N, N))\n",
    "\n",
    "    for i in range(n):\n",
    "        image[x[i],N-1-y[i]] = messages[i]\n",
    "\n",
    "    plt.imshow(image, cmap='viridis')\n",
    "    plt.yticks(ticks=[19, 14, 9, 4], labels=[0, 5, 10, 15])\n",
    "    plt.xticks([0, 5, 10, 15])\n",
    "    plt.show()\n",
    "    \n",
    "\n",
    "def joint_entropy(xs, ys):\n",
    "    xys = []\n",
    "\n",
    "    for x, y in zip(xs, ys):\n",
    "        xy = (_hashable_tensor(x), _hashable_tensor(y))\n",
    "        xys.append(xy)\n",
    "\n",
    "    return calc_entropy(xys)\n",
    "\n",
    "\n",
    "def information_scores(logs, N, normalizer=\"arithmetic\"):\n",
    "    \"\"\"calculate entropy scores: mutual information (MI), polysemy, and synonymy\n",
    "    \"\"\"\n",
    "\n",
    "    numbers = one_hot_to_numbers(logs.sender_input)\n",
    "    sums = torch.sum(numbers, dim=1)\n",
    "    messages = logs.message.argmax(dim=-1)\n",
    "    \n",
    "    H_sums = calc_entropy(sums)\n",
    "    H_numbers = calc_entropy(numbers)\n",
    "    H_messages = calc_entropy(messages)\n",
    "    \n",
    "    H_sums_messages = joint_entropy(sums, messages)\n",
    "    H_numbers_messages = joint_entropy(numbers, messages)\n",
    "\n",
    "    if normalizer == \"arithmetic\":\n",
    "        normalizer_sums_messages = 0.5 * (H_sums + H_messages)\n",
    "        normalizer_numbers_messages = 0.5 * (H_numbers + H_messages)\n",
    "    elif normalizer == \"joint\":\n",
    "        normalizer_sums_messages = H_sums_messages\n",
    "        normalizer_numbers_messages = H_numbers_messages\n",
    "    else:\n",
    "        raise AttributeError(\"Unknown normalizer\")\n",
    "\n",
    "    # normalized mutual information\n",
    "    NMI_sums_messages = (H_sums + H_messages - H_sums_messages) / normalizer_sums_messages\n",
    "    NMI_numbers_messages = (H_numbers + H_messages - H_numbers_messages) / normalizer_numbers_messages\n",
    "\n",
    "    # normalized conditional entropy H(input | messages) --> polysemy\n",
    "    polysemy_numbers = (H_numbers_messages - H_messages) / H_numbers\n",
    "    polysemy_sums = (H_sums_messages - H_messages) / H_sums\n",
    "\n",
    "    # normalized conditional entropy H(messages | input) --> synonymy\n",
    "    \n",
    "    synonymy_numbers = (H_numbers_messages - H_numbers) / H_messages\n",
    "    synonymy_sums = (H_sums_messages - H_sums) / H_messages\n",
    "  \n",
    "\n",
    "    score_dict = {'NMI_sums': NMI_sums_messages,\n",
    "                  'NMI_numbers': NMI_numbers_messages,\n",
    "                  'polysemy_sums': polysemy_sums,\n",
    "                  'polysemy_numbers': polysemy_numbers, \n",
    "                  'synonymy_sums': synonymy_sums, \n",
    "                  'synonymy_numbers': synonymy_numbers}\n",
    "\n",
    "    return score_dict\n",
    " \n",
    "     \n",
    "def calc_performance(logs):\n",
    "\n",
    "    numbers = one_hot_to_numbers(logs.sender_input)\n",
    "    messages = logs.message.argmax(dim=-1)\n",
    "    receiver_output = logs.receiver_output.argmax(dim=1)\n",
    "    \n",
    "    accuracy = torch.mean((torch.sum(numbers, dim=1) == logs.receiver_output.argmax(dim=1)).float())\n",
    "    abs_diff = torch.mean(torch.abs(logs.receiver_output.argmax(dim=1) - torch.sum(numbers, dim=1)).float())\n",
    "    \n",
    "    return accuracy, abs_diff"
   ]
  },
  {
   "cell_type": "code",
   "execution_count": 39,
   "metadata": {},
   "outputs": [],
   "source": [
    "test_logs = load_interaction(None, 20, 200, data='train')"
   ]
  },
  {
   "cell_type": "code",
   "execution_count": 40,
   "metadata": {},
   "outputs": [
    {
     "data": {
      "text/plain": [
       "(tensor(0.9939), tensor(0.0102))"
      ]
     },
     "execution_count": 40,
     "metadata": {},
     "output_type": "execute_result"
    }
   ],
   "source": [
    "calc_performance(test_logs)"
   ]
  },
  {
   "cell_type": "code",
   "execution_count": 41,
   "metadata": {},
   "outputs": [
    {
     "data": {
      "image/png": "[encoded data removed]",
      "text/plain": [
       "<Figure size 432x288 with 1 Axes>"
      ]
     },
     "metadata": {
      "needs_background": "light"
     },
     "output_type": "display_data"
    }
   ],
   "source": [
    "plot_symbol_per_input(test_logs)"
   ]
  },
  {
   "cell_type": "code",
   "execution_count": 42,
   "metadata": {},
   "outputs": [
    {
     "data": {
      "image/png": "[encoded data removed]",
      "text/plain": [
       "<Figure size 432x288 with 1 Axes>"
      ]
     },
     "metadata": {
      "needs_background": "light"
     },
     "output_type": "display_data"
    }
   ],
   "source": [
    "plot_accuracy_versus_frequency(test_logs)"
   ]
  },
  {
   "cell_type": "code",
   "execution_count": 43,
   "metadata": {},
   "outputs": [
    {
     "data": {
      "text/plain": [
       "{'NMI_sums': 0.8755238576979001,\n",
       " 'NMI_numbers': 0.830810416870747,\n",
       " 'polysemy_sums': 0.02320032240546505,\n",
       " 'polysemy_numbers': 0.2813235197023992,\n",
       " 'synonymy_sums': 0.20672399668128322,\n",
       " 'synonymy_numbers': 0.01559435134611193}"
      ]
     },
     "execution_count": 43,
     "metadata": {},
     "output_type": "execute_result"
    }
   ],
   "source": [
    "information_scores(test_logs, N)"
   ]
  },
  {
   "cell_type": "code",
   "execution_count": null,
   "metadata": {},
   "outputs": [],
   "source": []
  },
  {
   "cell_type": "code",
   "execution_count": null,
   "metadata": {},
   "outputs": [],
   "source": []
  }
 ],
 "metadata": {
  "kernelspec": {
   "display_name": "Python 3 (ipykernel)",
   "language": "python",
   "name": "python3"
  },
  "language_info": {
   "codemirror_mode": {
    "name": "ipython",
    "version": 3
   },
   "file_extension": ".py",
   "mimetype": "text/x-python",
   "name": "python",
   "nbconvert_exporter": "python",
   "pygments_lexer": "ipython3",
   "version": "3.9.7"
  }
 },
 "nbformat": 4,
 "nbformat_minor": 4
}
