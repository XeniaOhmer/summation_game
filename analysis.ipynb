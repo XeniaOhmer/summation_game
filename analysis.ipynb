{
 "cells": [
  {
   "cell_type": "code",
   "execution_count": 1,
   "metadata": {},
   "outputs": [],
   "source": [
    "from utils.analysis_helpers import * \n",
    "from utils.plot_helpers import *\n",
    "import pandas as pd"
   ]
  },
  {
   "cell_type": "markdown",
   "metadata": {},
   "source": [
    "### training and test performance"
   ]
  },
  {
   "cell_type": "code",
   "execution_count": 2,
   "metadata": {},
   "outputs": [],
   "source": [
    "N_collection = [20, 40]\n",
    "V_factors = [1, 2, 4, 8]\n",
    "\n",
    "performance = {'N': [], '|V|': [], 'factor': [], \n",
    "               'train_acc': [], 'test_acc': [], \n",
    "               'train_mae': [], 'test_mae': [],\n",
    "               'random_mae': []}\n",
    "\n",
    "for N in N_collection:\n",
    "    \n",
    "    min_V = 2*N + 1\n",
    "    \n",
    "    for factor in V_factors: \n",
    "        \n",
    "        V = min_V * factor\n",
    "        \n",
    "        interaction_train = load_interaction(N, V, mode='train')\n",
    "        interaction_test = load_interaction(N, V, mode='test')\n",
    "        \n",
    "        acc_train, mae_train = calc_performance(interaction_train)\n",
    "        acc_test, mae_test = calc_performance(interaction_test)\n",
    "        if factor == 1:\n",
    "            random_mae = calc_random_mae(interaction_train)\n",
    "        \n",
    "        performance['N'].append(N)\n",
    "        performance['|V|'].append(V)\n",
    "        performance['factor'].append(factor)\n",
    "        performance['train_acc'].append(acc_train.item())\n",
    "        performance['train_mae'].append(mae_train.item())\n",
    "        performance['test_acc'].append(acc_test.item())\n",
    "        performance['test_mae'].append(mae_test.item())\n",
    "        performance['random_mae'].append(random_mae.item())\n",
    "        \n",
    "performance = pd.DataFrame(performance)"
   ]
  },
  {
   "cell_type": "code",
   "execution_count": 3,
   "metadata": {},
   "outputs": [
    {
     "data": {
      "text/html": [
       "<div>\n",
       "<style scoped>\n",
       "    .dataframe tbody tr th:only-of-type {\n",
       "        vertical-align: middle;\n",
       "    }\n",
       "\n",
       "    .dataframe tbody tr th {\n",
       "        vertical-align: top;\n",
       "    }\n",
       "\n",
       "    .dataframe thead th {\n",
       "        text-align: right;\n",
       "    }\n",
       "</style>\n",
       "<table border=\"1\" class=\"dataframe\">\n",
       "  <thead>\n",
       "    <tr style=\"text-align: right;\">\n",
       "      <th></th>\n",
       "      <th>N</th>\n",
       "      <th>|V|</th>\n",
       "      <th>factor</th>\n",
       "      <th>train_acc</th>\n",
       "      <th>test_acc</th>\n",
       "      <th>train_mae</th>\n",
       "      <th>test_mae</th>\n",
       "      <th>random_mae</th>\n",
       "    </tr>\n",
       "  </thead>\n",
       "  <tbody>\n",
       "    <tr>\n",
       "      <th>0</th>\n",
       "      <td>20</td>\n",
       "      <td>41</td>\n",
       "      <td>1</td>\n",
       "      <td>0.971839</td>\n",
       "      <td>0.159091</td>\n",
       "      <td>0.067960</td>\n",
       "      <td>1.568182</td>\n",
       "      <td>11.848318</td>\n",
       "    </tr>\n",
       "    <tr>\n",
       "      <th>1</th>\n",
       "      <td>20</td>\n",
       "      <td>82</td>\n",
       "      <td>2</td>\n",
       "      <td>0.981763</td>\n",
       "      <td>0.113636</td>\n",
       "      <td>0.076071</td>\n",
       "      <td>2.090909</td>\n",
       "      <td>11.848318</td>\n",
       "    </tr>\n",
       "    <tr>\n",
       "      <th>2</th>\n",
       "      <td>20</td>\n",
       "      <td>164</td>\n",
       "      <td>4</td>\n",
       "      <td>0.996121</td>\n",
       "      <td>0.068182</td>\n",
       "      <td>0.019748</td>\n",
       "      <td>1.750000</td>\n",
       "      <td>11.848318</td>\n",
       "    </tr>\n",
       "    <tr>\n",
       "      <th>3</th>\n",
       "      <td>20</td>\n",
       "      <td>328</td>\n",
       "      <td>8</td>\n",
       "      <td>0.993451</td>\n",
       "      <td>0.113636</td>\n",
       "      <td>0.018791</td>\n",
       "      <td>1.181818</td>\n",
       "      <td>11.848318</td>\n",
       "    </tr>\n",
       "    <tr>\n",
       "      <th>4</th>\n",
       "      <td>40</td>\n",
       "      <td>81</td>\n",
       "      <td>1</td>\n",
       "      <td>0.939894</td>\n",
       "      <td>0.089286</td>\n",
       "      <td>0.410562</td>\n",
       "      <td>3.458333</td>\n",
       "      <td>23.443867</td>\n",
       "    </tr>\n",
       "    <tr>\n",
       "      <th>5</th>\n",
       "      <td>40</td>\n",
       "      <td>162</td>\n",
       "      <td>2</td>\n",
       "      <td>0.947878</td>\n",
       "      <td>0.190476</td>\n",
       "      <td>0.201798</td>\n",
       "      <td>2.851191</td>\n",
       "      <td>23.443867</td>\n",
       "    </tr>\n",
       "    <tr>\n",
       "      <th>6</th>\n",
       "      <td>40</td>\n",
       "      <td>324</td>\n",
       "      <td>4</td>\n",
       "      <td>0.992056</td>\n",
       "      <td>0.154762</td>\n",
       "      <td>0.023529</td>\n",
       "      <td>2.857143</td>\n",
       "      <td>23.443867</td>\n",
       "    </tr>\n",
       "    <tr>\n",
       "      <th>7</th>\n",
       "      <td>40</td>\n",
       "      <td>648</td>\n",
       "      <td>8</td>\n",
       "      <td>0.995268</td>\n",
       "      <td>0.178571</td>\n",
       "      <td>0.015625</td>\n",
       "      <td>2.083333</td>\n",
       "      <td>23.443867</td>\n",
       "    </tr>\n",
       "  </tbody>\n",
       "</table>\n",
       "</div>"
      ],
      "text/plain": [
       "    N  |V|  factor  train_acc  test_acc  train_mae  test_mae  random_mae\n",
       "0  20   41       1   0.971839  0.159091   0.067960  1.568182   11.848318\n",
       "1  20   82       2   0.981763  0.113636   0.076071  2.090909   11.848318\n",
       "2  20  164       4   0.996121  0.068182   0.019748  1.750000   11.848318\n",
       "3  20  328       8   0.993451  0.113636   0.018791  1.181818   11.848318\n",
       "4  40   81       1   0.939894  0.089286   0.410562  3.458333   23.443867\n",
       "5  40  162       2   0.947878  0.190476   0.201798  2.851191   23.443867\n",
       "6  40  324       4   0.992056  0.154762   0.023529  2.857143   23.443867\n",
       "7  40  648       8   0.995268  0.178571   0.015625  2.083333   23.443867"
      ]
     },
     "execution_count": 3,
     "metadata": {},
     "output_type": "execute_result"
    }
   ],
   "source": [
    "performance"
   ]
  },
  {
   "cell_type": "code",
   "execution_count": 226,
   "metadata": {},
   "outputs": [
    {
     "data": {
      "image/png": "[encoded data removed]",
      "text/plain": [
       "<Figure size 432x288 with 1 Axes>"
      ]
     },
     "metadata": {
      "needs_background": "light"
     },
     "output_type": "display_data"
    }
   ],
   "source": [
    "plot_symbol_per_input(logs)"
   ]
  },
  {
   "cell_type": "code",
   "execution_count": 180,
   "metadata": {},
   "outputs": [
    {
     "data": {
      "image/png": "[encoded data removed]",
      "text/plain": [
       "<Figure size 432x288 with 1 Axes>"
      ]
     },
     "metadata": {
      "needs_background": "light"
     },
     "output_type": "display_data"
    }
   ],
   "source": [
    "R = plot_accuracy_versus_frequency(logs)"
   ]
  },
  {
   "cell_type": "code",
   "execution_count": 181,
   "metadata": {},
   "outputs": [
    {
     "data": {
      "text/plain": [
       "{'NMI_sums': 0.9009494067332878,\n",
       " 'NMI_numbers': 0.7004069948772167,\n",
       " 'polysemy_sums': 0.11346390508173065,\n",
       " 'polysemy_numbers': 0.44923266956310115,\n",
       " 'synonymy_sums': 0.08416087248382394,\n",
       " 'synonymy_numbers': 0.03830794161392154}"
      ]
     },
     "execution_count": 181,
     "metadata": {},
     "output_type": "execute_result"
    }
   ],
   "source": [
    "information_scores(test_logs, N)"
   ]
  },
  {
   "cell_type": "code",
   "execution_count": 182,
   "metadata": {},
   "outputs": [
    {
     "data": {
      "text/plain": [
       "(tensor(0.9921), tensor(0.0235), (tensor(-0.0114), tensor(0.0036)))"
      ]
     },
     "execution_count": 182,
     "metadata": {},
     "output_type": "execute_result"
    }
   ],
   "source": [
    "calc_performance(logs)"
   ]
  },
  {
   "cell_type": "code",
   "execution_count": null,
   "metadata": {},
   "outputs": [],
   "source": []
  },
  {
   "cell_type": "code",
   "execution_count": null,
   "metadata": {},
   "outputs": [],
   "source": []
  }
 ],
 "metadata": {
  "kernelspec": {
   "display_name": "Python 3 (ipykernel)",
   "language": "python",
   "name": "python3"
  },
  "language_info": {
   "codemirror_mode": {
    "name": "ipython",
    "version": 3
   },
   "file_extension": ".py",
   "mimetype": "text/x-python",
   "name": "python",
   "nbconvert_exporter": "python",
   "pygments_lexer": "ipython3",
   "version": "3.9.7"
  }
 },
 "nbformat": 4,
 "nbformat_minor": 4
}
